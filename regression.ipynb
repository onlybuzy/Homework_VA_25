{
 "cells": [
  {
   "cell_type": "code",
   "execution_count": 1,
   "metadata": {},
   "outputs": [],
   "source": [
    "%matplotlib inline"
   ]
  },
  {
   "cell_type": "markdown",
   "metadata": {},
   "source": [
    "## Regression"
   ]
  },
  {
   "cell_type": "markdown",
   "metadata": {},
   "source": [
    "## Importing data for supervised learning"
   ]
  },
  {
   "cell_type": "markdown",
   "metadata": {},
   "source": [
    "In this notebook, you will work with Gapminder data that we have consolidated into one CSV file available in the workspace as 'gapminder.csv'. Specifically, your goal will be to use this data to predict the life expectancy in a given country based on features such as the country's GDP, fertility rate, and population. \n",
    "\n",
    "Since the target variable here is quantitative, this is a regression problem. To begin, you will fit a linear regression with just one feature: 'fertility', which is the average number of children a woman in a given country gives birth to. In later exercises, you will use all the features to build regression models.\n",
    "\n",
    "Before that, however, you need to import the data and get it into the form needed by scikit-learn. This involves creating feature and target variable arrays. Furthermore, since you are going to use only one feature to begin with, you need to do some reshaping using NumPy's .reshape() method. Don't worry too much about this reshaping right now, but it is something you will have to do occasionally when working with scikit-learn so it is useful to practice."
   ]
  },
  {
   "cell_type": "markdown",
   "metadata": {},
   "source": [
    "** Task assignment **\n",
    "\n",
    "* Import numpy and pandas as their standard aliases (np and pd).\n",
    "* Read the file './data/gapminder_tidy.csv' into a DataFrame df using the `read_csv()` function.\n",
    "* Create array `X` for the 'fertility' feature and array y for the 'life' target variable.\n",
    "* Reshape the arrays by using the `.reshape()` method and passing in -1 and 1."
   ]
  },
  {
   "cell_type": "code",
   "execution_count": null,
   "metadata": {},
   "outputs": [],
   "source": [
    "# Import numpy and pandas\n",
    "____\n",
    "____\n",
    "\n",
    "# Read the CSV file into a DataFrame: df\n",
    "df = ____ \n",
    "df = df.fillna(0)\n",
    "\n",
    "# Create arrays for features and target variable\n",
    "y = ____\n",
    "X = ____\n",
    "\n",
    "# Print the dimensions of X and y before reshaping\n",
    "print(\"Dimensions of y before reshaping: {}\".format(y.shape))\n",
    "print(\"Dimensions of X before reshaping: {}\".format(X.shape))\n",
    "\n",
    "# Reshape X and y\n",
    "y = ____\n",
    "X = ____\n",
    "\n",
    "# Print the dimensions of X and y after reshaping\n",
    "print(\"Dimensions of y after reshaping: {}\".format(y.shape))\n",
    "print(\"Dimensions of X after reshaping: {}\".format(X.shape))\n"
   ]
  },
  {
   "cell_type": "markdown",
   "metadata": {},
   "source": [
    "## Exploring the Gapminder data"
   ]
  },
  {
   "cell_type": "markdown",
   "metadata": {},
   "source": [
    "As always, it is important to explore your data before building models. You can construct a heatmap showing the correlation between the different features of the Gapminder dataset as follows which has been pre-loaded into a DataFrame as df and is available for exploration in the Python Shell. Cells that are in green show positive correlation, while cells that are in red show negative correlation. Take a moment to explore this: Which features are positively correlated with life, and which ones are negatively correlated? Does this match your intuition?\n",
    "\n",
    "Then, in the IPython Shell, explore the DataFrame using pandas methods such as `.info()`, `.describe()`, `.head()`.\n",
    "\n",
    "In case you are curious, the heatmap was generated using Seaborn's heatmap function and the following line of code, where `df.corr()` computes the pairwise correlation between columns:"
   ]
  },
  {
   "cell_type": "code",
   "execution_count": null,
   "metadata": {},
   "outputs": [],
   "source": [
    "from IPython.display import Image\n",
    "%matplotlib inline\n",
    "\n",
    "import seaborn as sns\n",
    "sns.heatmap(df.corr(), square=True, cmap='RdYlGn')"
   ]
  },
  {
   "cell_type": "markdown",
   "metadata": {},
   "source": [
    "** Task assignment **\n",
    "\n",
    "Once you have a feel for the data, consider the statements below and select the one that is not true.\n",
    "\n",
    "* The DataFrame has 139 samples (or rows) and 9 columns.\n",
    "* Life and fertility are negatively correlated.\n",
    "* The mean of life is 64.0786.\n",
    "* Fertility is of type float64.\n",
    "* GDP and life are positively correlated"
   ]
  },
  {
   "cell_type": "markdown",
   "metadata": {},
   "source": [
    "## Fit & predict for regression"
   ]
  },
  {
   "cell_type": "markdown",
   "metadata": {},
   "source": [
    "Now, you will fit a linear regression and predict life expectancy using just one feature. In this exercise, you will use the 'fertility' feature of the Gapminder dataset. Since the goal is to predict life expectancy, the target variable here is 'life'. The array for the target variable has been pre-loaded as y and the array for 'fertility' has been pre-loaded as X.\n",
    "\n",
    "A scatter plot with 'fertility' on the x-axis and 'life' on the y-axis has been generated. As you can see, there is a strongly negative correlation, so a linear regression should be able to capture this trend. Your job is to fit a linear regression and then predict the life expectancy, overlaying these predicted values on the plot to generate a regression line. You will also compute and print the $R^2$ score using scikit-learn's `.score()` method."
   ]
  },
  {
   "cell_type": "markdown",
   "metadata": {},
   "source": [
    "** Task assignment **\n",
    "\n",
    "* Import `LinearRegression` from `sklearn.linear_model`.\n",
    "* Create a `LinearRegression` regressor called `reg`.\n",
    "* Set up the prediction space to range from the minimum to the maximum of `X`. This has been done for you.\n",
    "* Fit the regressor to the data (`X` and `y`) and compute its predictions using the `.predict()` method and the prediction_space array.\n",
    "* Compute and print the $R^2$ score using the `.score()` method.\n",
    "* Overlay the plot with your linear regression line. "
   ]
  },
  {
   "cell_type": "code",
   "execution_count": null,
   "metadata": {},
   "outputs": [],
   "source": [
    "import matplotlib.pyplot as plt\n",
    "# Import LinearRegression\n",
    "____\n",
    "\n",
    "# Create the regressor: reg\n",
    "reg = ____\n",
    "\n",
    "# Create the prediction space\n",
    "prediction_space = np.linspace(min(X), max(X)).reshape(-1,1)\n",
    "\n",
    "# Fit the model to the data\n",
    "____\n",
    "\n",
    "# Compute predictions over the prediction space: y_pred\n",
    "y_pred = ____\n",
    "\n",
    "# Print R^2 \n",
    "print(reg.score(____, ____))\n",
    "\n",
    "# Plot regression line\n",
    "plt.plot(prediction_space, y_pred, color='black', linewidth=3)\n",
    "plt.show()"
   ]
  },
  {
   "cell_type": "markdown",
   "metadata": {},
   "source": [
    "## Train/test split for regression"
   ]
  },
  {
   "cell_type": "markdown",
   "metadata": {},
   "source": [
    "As you learned earlier, train and test sets are vital to ensure that your supervised learning model is able to generalize well to new data. This was true for classification models, and is equally true for linear regression models.\n",
    "\n",
    "In this exercise, you will split the Gapminder dataset into training and testing sets, and then fit and predict a linear regression over all features. In addition to computing the $R^2$ score, you will also compute the Root Mean Squared Error (RMSE), which is another commonly used metric to evaluate regression models. The feature array `X` and target variable array `y` have been pre-loaded for you from the DataFrame `df`."
   ]
  },
  {
   "cell_type": "markdown",
   "metadata": {},
   "source": [
    "** Task assignment **\n",
    "\n",
    "* Import LinearRegression from `sklearn.linear_model`, `mean_squared_error` from `sklearn.metrics`, and `train_test_split` from `sklearn.model_selection`.\n",
    "* Using `X` and `y`, create training and test sets such that 30% is used for testing and 70% for training. Use a random state of 42.\n",
    "* Create a linear regression regressor called reg_all, fit it to the training set, and evaluate it on the test set.\n",
    "* Compute and print the $R^2$ score using the `.score()` method on the test set.\n",
    "* Compute and print the RMSE. To do this, first compute the Mean Squared Error using the `mean_squared_error()` function with the arguments `y_test` and `y_pred`, and then take its square root using `np.sqrt()`."
   ]
  },
  {
   "cell_type": "code",
   "execution_count": null,
   "metadata": {},
   "outputs": [],
   "source": [
    "# Import necessary modules\n",
    "____\n",
    "____\n",
    "____\n",
    "\n",
    "\n",
    "# Create training and test sets\n",
    "X_train, X_test, y_train, y_test = ____(____, ____, test_size = ____, random_state=____)\n",
    "\n",
    "# Create the regressor: reg_all\n",
    "reg_all = ____\n",
    "\n",
    "# Fit the regressor to the training data\n",
    "____\n",
    "\n",
    "# Predict on the test data: y_pred\n",
    "y_pred = ____\n",
    "\n",
    "# Compute and print R^2 and RMSE\n",
    "r2 = ____\n",
    "print(\"R^2: {}\".format(r2))\n",
    "rmse = np.sqrt(____)\n",
    "print(\"Root Mean Squared Error: {}\".format(rmse))"
   ]
  },
  {
   "cell_type": "markdown",
   "metadata": {},
   "source": [
    "## 5-fold cross-validation"
   ]
  },
  {
   "cell_type": "markdown",
   "metadata": {},
   "source": [
    "Cross-validation is a vital step in evaluating a model. It maximizes the amount of data that is used to train the model, as during the course of training, the model is not only trained, but also tested on all of the available data.\n",
    "\n",
    "In this exercise, you will practice 5-fold cross validation on the Gapminder data. By default, scikit-learn's `cross_val_score()` function uses $R^2$ as the metric of choice for regression. Since you are performing 5-fold cross-validation, the function will return 5 scores. Your job is to compute these 5 scores and then take their average.\n",
    "\n",
    "The DataFrame has been loaded as `df` and split into the feature/target variable arrays `X` and `y`. The modules `pandas` and `numpy` have been imported as `pd` and `np`, respectively."
   ]
  },
  {
   "cell_type": "markdown",
   "metadata": {},
   "source": [
    "** Task assignment **\n",
    "\n",
    "* Import LinearRegression from `sklearn.linear_model` and `cross_val_score` from `sklearn.model_selection`.\n",
    "* Create a linear regression regressor called `reg`.\n",
    "* Use the `cross_val_score()` function to perform 5-fold cross-validation on `X` and `y`.\n",
    "* Compute and print the average cross-validation score. You can use NumPy's `mean()` function to compute the average."
   ]
  },
  {
   "cell_type": "code",
   "execution_count": null,
   "metadata": {},
   "outputs": [],
   "source": [
    "# Import the necessary modules\n",
    "____\n",
    "____\n",
    "\n",
    "# Create a linear regression object: reg\n",
    "reg = ____\n",
    "\n",
    "# Compute 5-fold cross-validation scores: cv_scores\n",
    "cv_scores = ____\n",
    "\n",
    "# Print the 5-fold cross-validation scores\n",
    "print(____)\n",
    "\n",
    "print(\"Average 5-Fold CV Score: {}\".format(____(____)))"
   ]
  },
  {
   "cell_type": "markdown",
   "metadata": {},
   "source": [
    "## K-Fold CV comparison"
   ]
  },
  {
   "cell_type": "markdown",
   "metadata": {},
   "source": [
    "Cross validation is essential but do not forget that the more folds you use, the more computationally expensive cross-validation becomes. In this exercise, you will explore this for yourself. Your job is to perform 3-fold cross-validation and then 10-fold cross-validation on the Gapminder dataset.\n",
    "\n",
    "You can use `%timeit` to see how long each 3-fold CV takes compared to 10-fold CV by executing the following `cv=3` and `cv=10`:\n",
    "\n",
    "`%timeit cross_val_score(reg, X, y, cv = ____)`"
   ]
  },
  {
   "cell_type": "markdown",
   "metadata": {},
   "source": [
    "** Task Assignment **\n",
    "\n",
    "* Import `LinearRegression` from `sklearn.linear_model` and `cross_val_score` from `sklearn.model_selection`.\n",
    "* Create a linear regression regressor called `reg`.\n",
    "* Perform 3-fold CV and then 10-fold CV. Compare the resulting mean scores."
   ]
  },
  {
   "cell_type": "code",
   "execution_count": null,
   "metadata": {},
   "outputs": [],
   "source": [
    "# Import necessary modules\n",
    "____\n",
    "____\n",
    "\n",
    "# Create a linear regression object: reg\n",
    "reg = ____\n",
    "\n",
    "# Perform 3-fold CV\n",
    "cvscores_3 = ____\n",
    "print(np.mean(cvscores_3))\n",
    "\n",
    "# Perform 10-fold CV\n",
    "cvscores_10 = ____\n",
    "print(np.mean(cvscores_10))\n",
    "\n",
    "# Now time the 3-fold and 10-fold CV and compare the results"
   ]
  },
  {
   "cell_type": "markdown",
   "metadata": {},
   "source": [
    "## Melbourne housing dataset - Kaggle"
   ]
  },
  {
   "cell_type": "markdown",
   "metadata": {},
   "source": [
    "We will now switch to a dataset available on Kaggle: the Melbourne housing dataset. Just like above, start by loading the dataset using the pandas read_csv function. The dataset is available in \"data/melb_data.csv\". We will try to predict the sales price based on a set of input variables. \n",
    "\n",
    "** Task Assignment **\n",
    "* Print the list of columns in the dataset to find the name of the prediction target.\n",
    "* Save this to a new variable \"y\". "
   ]
  },
  {
   "cell_type": "code",
   "execution_count": null,
   "metadata": {},
   "outputs": [],
   "source": [
    "# Create prediction target y"
   ]
  },
  {
   "cell_type": "markdown",
   "metadata": {},
   "source": [
    "** Task assignment **\n",
    "* Now create a dataframe X holding the predictive features. Use the following set of columns:\n",
    "** LotArea\n",
    "** YearBuilt\n",
    "** 1stFlrSF\n",
    "** 2ndFlrSF\n",
    "** FullBath\n",
    "** BedroomAbvGr\n",
    "** TotRmsAbvGrd\n",
    "\n",
    "Do this by first creating a list of features, and then using that list to create the dataframe that you'll use to fit the model. "
   ]
  },
  {
   "cell_type": "code",
   "execution_count": null,
   "metadata": {},
   "outputs": [],
   "source": [
    "# Create the list of features below\n",
    "feature_names = ___\n",
    "\n",
    "# Select data corresponding to features in feature_names\n",
    "X = ____"
   ]
  },
  {
   "cell_type": "markdown",
   "metadata": {},
   "source": [
    "Now first take a look at your data before we start building a model for it. "
   ]
  },
  {
   "cell_type": "markdown",
   "metadata": {},
   "source": [
    "** Task assignment **\n",
    "\n",
    "* Import LinearRegression from `sklearn.linear_model`, `mean_squared_error` from `sklearn.metrics`, and `train_test_split` from `sklearn.model_selection`.\n",
    "* Using `X` and `y`, create training and test sets such that 30% is used for testing and 70% for training. Use a random state of 42.\n",
    "* Create a linear regression regressor called reg_all, fit it to the training set, and evaluate it on the test set.\n",
    "* Compute and print the $R^2$ score using the `.score()` method on the test set.\n",
    "* Compute and print the RMSE. To do this, first compute the Mean Squared Error using the `mean_squared_error()` function with the arguments `y_test` and `y_pred`, and then take its square root using `np.sqrt()`."
   ]
  },
  {
   "cell_type": "code",
   "execution_count": null,
   "metadata": {},
   "outputs": [],
   "source": []
  },
  {
   "cell_type": "markdown",
   "metadata": {},
   "source": [
    "Now let's compare that with a Decision Tree regressor model. \n",
    "\n",
    "** Task assignment **\n",
    "* Import DecisionTreeRegressor from sklearn.tree.\n",
    "* Create a new DecisionTreeRegressor model.\n",
    "* Fit the model to your X_train, y_train data.\n",
    "* Evaluate the performance (R^2 and RMSE) on the test set."
   ]
  },
  {
   "cell_type": "code",
   "execution_count": null,
   "metadata": {},
   "outputs": [],
   "source": []
  }
 ],
 "metadata": {
  "kernelspec": {
   "display_name": "Python 3",
   "language": "python",
   "name": "python3"
  },
  "language_info": {
   "codemirror_mode": {
    "name": "ipython",
    "version": 3
   },
   "file_extension": ".py",
   "mimetype": "text/x-python",
   "name": "python",
   "nbconvert_exporter": "python",
   "pygments_lexer": "ipython3",
   "version": "3.12.4"
  }
 },
 "nbformat": 4,
 "nbformat_minor": 2
}
